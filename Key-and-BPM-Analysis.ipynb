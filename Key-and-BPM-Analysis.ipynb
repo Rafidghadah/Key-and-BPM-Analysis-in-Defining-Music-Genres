{
 "cells": [
  {
   "cell_type": "markdown",
   "metadata": {},
   "source": [
    "# **Exploring the Role of Key and BPM in Defining Music Genres**"
   ]
  },
  {
   "cell_type": "markdown",
   "metadata": {},
   "source": [
    "## **Data Collection and Sources**\n",
    "\n",
    "To conduct a comprehensive song genre analysis based on key and BPM, the foundation of our research lies in the acquisition of a substantial dataset encompassing songs and their associated attributes. For this purpose, we turned to a reliable source of music data, the Global Tzanakakis (GTZAN) dataset for Music Genre Classification. This dataset is publicly available on [Kaggle](https://medium.com/r?url=https%3A%2F%2Fwww.kaggle.com%2Fdatasets%2Fandradaolteanu%2Fgtzan-dataset-music-genre-classification)\n",
    "\n",
    "These audio files are thoughtfully categorized into various music genres, including rock, pop, disco, and more. Each genre boasts a meticulously curated selection of 100 songs, each represented by a 30-second audio clip. This meticulous curation ensures that the dataset captures the essence of diverse musical styles, making it a valuable resource for our genre analysis."
   ]
  },
  {
   "cell_type": "markdown",
   "metadata": {},
   "source": [
    "## **Data Analysis Process**\n",
    "The process of analysis will commence with the extraction of key and BPM data from audio sources. To accomplish this, we will employ the capabilities of Python libraries, specifically Librose and Pydub, which enable us to dissect the musical components that define a song's key and tempo.\n",
    "\n",
    "With this vital information in hand, our exploration will then shift focus towards the BPM distribution across various music genres. This phase of the analysis aims to unveil the distinct BPM profiles that characterize each genre, shedding light on the rhythmic cadence and energy levels associated with different musical styles. This critical step will provide us with a comprehensive understanding of how tempo plays a defining role in shaping the identity of a music genre.\n",
    "\n",
    "Subsequently, our examination will delve deeper into the intricate world of musical keys, seeking to discern the rich tapestry of tonalities within each genre. We will uncover the predominant keys that resonate within a particular genre, identifying how the emotional landscape of music is sculpted by the choice of key. This in-depth exploration will offer invaluable insights into the emotional and tonal nuances that contribute to the unique identity of various music genres. \n",
    "\n",
    "Now, let's start our analysis into the heart and soul of the rock genre."
   ]
  },
  {
   "cell_type": "markdown",
   "metadata": {},
   "source": [
    "## **Import Libraries**"
   ]
  },
  {
   "cell_type": "code",
   "execution_count": 4,
   "metadata": {},
   "outputs": [],
   "source": [
    "# data manipulation\n",
    "from pydub import AudioSegment       # Importing the AudioSegment class from the pydub library for audio manipulation\n",
    "import librosa                       # Importing the librosa library for audio analysis\n",
    "import numpy as np                   \n",
    "import os                            \n",
    "import pandas as pd                  \n",
    "\n",
    "# visulaization\n",
    "import matplotlib.pyplot as plt      # Importing the matplotlib library for creating visualizations\n",
    "import seaborn as sns                # Importing the seaborn library for enhancing visualization aesthetics\n",
    "\n",
    "import warnings\n",
    "warnings.filterwarnings(\"ignore\")    # Suppressing warning messages to keep the code clean"
   ]
  },
  {
   "cell_type": "markdown",
   "metadata": {},
   "source": [
    "## **Analyzation for Each Genre**"
   ]
  },
  {
   "cell_type": "markdown",
   "metadata": {},
   "source": [
    "### **Rock**"
   ]
  },
  {
   "cell_type": "code",
   "execution_count": 5,
   "metadata": {},
   "outputs": [],
   "source": [
    "# Function to detect the key of an audio file\n",
    "def detect_key(audio_file_path):\n",
    "    y, sr = librosa.load(audio_file_path) # Load the audio file using librosa and get the audio waveform (y) and the sampling rate (sr)\n",
    "    chroma = librosa.feature.chroma_cqt(y=y, sr=sr)\n",
    "    chroma_mean = chroma.mean(axis=1) # Calculate the mean chroma value along each pitch class (12 classes)\n",
    "    key_index = chroma_mean.argmax() # Find the index of the maximum chroma value, which represents the detected key\n",
    "    keys = ['C', 'C#', 'D', 'D#', 'E', 'F', 'F#', 'G', 'G#', 'A', 'A#', 'B']\n",
    "    detected_key = keys[key_index]\n",
    "    return detected_key\n",
    "\n",
    "# Function to get the BPM of an audio file\n",
    "def get_bpm(audio_file):\n",
    "    y, sr = librosa.load(audio_file)\n",
    "    onset_env = librosa.onset.onset_strength(y=y, sr=sr) # Calculate the onset strength profile to detect beats and onsets in the audio\n",
    "    tempo, _ = librosa.beat.beat_track(onset_envelope=onset_env, sr=sr) # Estimate the tempo (BPM) of the audio using the beat tracking algorithm\n",
    "    return tempo\n",
    "\n",
    "# Function to process files in a folder, including key detection\n",
    "def process_files_in_folder(folder_path):\n",
    "    data = {'File Name': [], 'BPM': [], 'Key': [], 'Genre': []}\n",
    "    for filename in os.listdir(folder_path):\n",
    "        if filename.endswith(\".wav\"):\n",
    "            audio_file = os.path.join(folder_path, filename) # Construct the full path of the audio file\n",
    "            bpm = get_bpm(audio_file)\n",
    "            key = detect_key(audio_file)\n",
    "\n",
    "            # Append the file's information (name, BPM, key, and genre) to the data dictionary\n",
    "            data['File Name'].append(filename)\n",
    "            data['BPM'].append(bpm.round())\n",
    "            data['Key'].append(key)\n",
    "            data['Genre'].append('Rock')\n",
    "    df = pd.DataFrame(data)\n",
    "    return df\n",
    "\n",
    "if __name__ == \"__main__\":\n",
    "    folder_path = \"GTZAN Dataset - Music Genre Classification/Data/genres_original/rock\"\n",
    "    df_rock = process_files_in_folder(folder_path)"
   ]
  },
  {
   "cell_type": "markdown",
   "metadata": {},
   "source": [
    "#### **BPM Distribution**"
   ]
  },
  {
   "cell_type": "code",
   "execution_count": 6,
   "metadata": {},
   "outputs": [
    {
     "data": {
      "text/plain": [
       "120.04"
      ]
     },
     "execution_count": 6,
     "metadata": {},
     "output_type": "execute_result"
    }
   ],
   "source": [
    "# typical tempo\n",
    "df_rock['BPM'].mean()"
   ]
  },
  {
   "cell_type": "code",
   "execution_count": 7,
   "metadata": {},
   "outputs": [
    {
     "name": "stdout",
     "output_type": "stream",
     "text": [
      "Lower Bound: 76.5\n",
      "Upper Bound: 160.5\n"
     ]
    }
   ],
   "source": [
    "# calculate lower and upper bounds\n",
    "Q1 = df_rock['BPM'].quantile(0.25)\n",
    "Q3 = df_rock['BPM'].quantile(0.75)\n",
    "IQR = Q3 - Q1\n",
    "\n",
    "lower_bound = Q1 - 1.5 * IQR\n",
    "upper_bound = Q3 + 1.5 * IQR\n",
    "\n",
    "print(\"Lower Bound:\", lower_bound)\n",
    "print(\"Upper Bound:\", upper_bound)"
   ]
  },
  {
   "cell_type": "code",
   "execution_count": 8,
   "metadata": {},
   "outputs": [
    {
     "data": {
      "text/html": [
       "<div>\n",
       "<style scoped>\n",
       "    .dataframe tbody tr th:only-of-type {\n",
       "        vertical-align: middle;\n",
       "    }\n",
       "\n",
       "    .dataframe tbody tr th {\n",
       "        vertical-align: top;\n",
       "    }\n",
       "\n",
       "    .dataframe thead th {\n",
       "        text-align: right;\n",
       "    }\n",
       "</style>\n",
       "<table border=\"1\" class=\"dataframe\">\n",
       "  <thead>\n",
       "    <tr style=\"text-align: right;\">\n",
       "      <th></th>\n",
       "      <th>File Name</th>\n",
       "      <th>BPM</th>\n",
       "      <th>Key</th>\n",
       "      <th>Genre</th>\n",
       "    </tr>\n",
       "  </thead>\n",
       "  <tbody>\n",
       "    <tr>\n",
       "      <th>69</th>\n",
       "      <td>rock.00069.wav</td>\n",
       "      <td>172.0</td>\n",
       "      <td>A</td>\n",
       "      <td>Rock</td>\n",
       "    </tr>\n",
       "    <tr>\n",
       "      <th>42</th>\n",
       "      <td>rock.00042.wav</td>\n",
       "      <td>161.0</td>\n",
       "      <td>A</td>\n",
       "      <td>Rock</td>\n",
       "    </tr>\n",
       "    <tr>\n",
       "      <th>10</th>\n",
       "      <td>rock.00010.wav</td>\n",
       "      <td>161.0</td>\n",
       "      <td>D</td>\n",
       "      <td>Rock</td>\n",
       "    </tr>\n",
       "    <tr>\n",
       "      <th>45</th>\n",
       "      <td>rock.00045.wav</td>\n",
       "      <td>152.0</td>\n",
       "      <td>A</td>\n",
       "      <td>Rock</td>\n",
       "    </tr>\n",
       "    <tr>\n",
       "      <th>9</th>\n",
       "      <td>rock.00009.wav</td>\n",
       "      <td>152.0</td>\n",
       "      <td>F</td>\n",
       "      <td>Rock</td>\n",
       "    </tr>\n",
       "    <tr>\n",
       "      <th>...</th>\n",
       "      <td>...</td>\n",
       "      <td>...</td>\n",
       "      <td>...</td>\n",
       "      <td>...</td>\n",
       "    </tr>\n",
       "    <tr>\n",
       "      <th>44</th>\n",
       "      <td>rock.00044.wav</td>\n",
       "      <td>92.0</td>\n",
       "      <td>C</td>\n",
       "      <td>Rock</td>\n",
       "    </tr>\n",
       "    <tr>\n",
       "      <th>51</th>\n",
       "      <td>rock.00051.wav</td>\n",
       "      <td>89.0</td>\n",
       "      <td>G#</td>\n",
       "      <td>Rock</td>\n",
       "    </tr>\n",
       "    <tr>\n",
       "      <th>7</th>\n",
       "      <td>rock.00007.wav</td>\n",
       "      <td>89.0</td>\n",
       "      <td>G</td>\n",
       "      <td>Rock</td>\n",
       "    </tr>\n",
       "    <tr>\n",
       "      <th>60</th>\n",
       "      <td>rock.00060.wav</td>\n",
       "      <td>89.0</td>\n",
       "      <td>E</td>\n",
       "      <td>Rock</td>\n",
       "    </tr>\n",
       "    <tr>\n",
       "      <th>43</th>\n",
       "      <td>rock.00043.wav</td>\n",
       "      <td>89.0</td>\n",
       "      <td>A</td>\n",
       "      <td>Rock</td>\n",
       "    </tr>\n",
       "  </tbody>\n",
       "</table>\n",
       "<p>100 rows × 4 columns</p>\n",
       "</div>"
      ],
      "text/plain": [
       "         File Name    BPM Key Genre\n",
       "69  rock.00069.wav  172.0   A  Rock\n",
       "42  rock.00042.wav  161.0   A  Rock\n",
       "10  rock.00010.wav  161.0   D  Rock\n",
       "45  rock.00045.wav  152.0   A  Rock\n",
       "9   rock.00009.wav  152.0   F  Rock\n",
       "..             ...    ...  ..   ...\n",
       "44  rock.00044.wav   92.0   C  Rock\n",
       "51  rock.00051.wav   89.0  G#  Rock\n",
       "7   rock.00007.wav   89.0   G  Rock\n",
       "60  rock.00060.wav   89.0   E  Rock\n",
       "43  rock.00043.wav   89.0   A  Rock\n",
       "\n",
       "[100 rows x 4 columns]"
      ]
     },
     "execution_count": 8,
     "metadata": {},
     "output_type": "execute_result"
    }
   ],
   "source": [
    "df_rock.sort_values(by='BPM', ascending=False)"
   ]
  },
  {
   "cell_type": "code",
   "execution_count": 9,
   "metadata": {},
   "outputs": [
    {
     "data": {
      "text/html": [
       "<div>\n",
       "<style scoped>\n",
       "    .dataframe tbody tr th:only-of-type {\n",
       "        vertical-align: middle;\n",
       "    }\n",
       "\n",
       "    .dataframe tbody tr th {\n",
       "        vertical-align: top;\n",
       "    }\n",
       "\n",
       "    .dataframe thead th {\n",
       "        text-align: right;\n",
       "    }\n",
       "</style>\n",
       "<table border=\"1\" class=\"dataframe\">\n",
       "  <thead>\n",
       "    <tr style=\"text-align: right;\">\n",
       "      <th></th>\n",
       "      <th>File Name</th>\n",
       "      <th>BPM</th>\n",
       "      <th>Key</th>\n",
       "      <th>Genre</th>\n",
       "    </tr>\n",
       "  </thead>\n",
       "  <tbody>\n",
       "    <tr>\n",
       "      <th>69</th>\n",
       "      <td>rock.00069.wav</td>\n",
       "      <td>172.0</td>\n",
       "      <td>A</td>\n",
       "      <td>Rock</td>\n",
       "    </tr>\n",
       "    <tr>\n",
       "      <th>42</th>\n",
       "      <td>rock.00042.wav</td>\n",
       "      <td>161.0</td>\n",
       "      <td>A</td>\n",
       "      <td>Rock</td>\n",
       "    </tr>\n",
       "    <tr>\n",
       "      <th>10</th>\n",
       "      <td>rock.00010.wav</td>\n",
       "      <td>161.0</td>\n",
       "      <td>D</td>\n",
       "      <td>Rock</td>\n",
       "    </tr>\n",
       "  </tbody>\n",
       "</table>\n",
       "</div>"
      ],
      "text/plain": [
       "         File Name    BPM Key Genre\n",
       "69  rock.00069.wav  172.0   A  Rock\n",
       "42  rock.00042.wav  161.0   A  Rock\n",
       "10  rock.00010.wav  161.0   D  Rock"
      ]
     },
     "execution_count": 9,
     "metadata": {},
     "output_type": "execute_result"
    }
   ],
   "source": [
    "# outliers\n",
    "df_rock.sort_values(by='BPM',ascending=False).head(3)"
   ]
  },
  {
   "cell_type": "code",
   "execution_count": 10,
   "metadata": {},
   "outputs": [
    {
     "data": {
      "image/png": "[encoded data removed]",
      "text/plain": [
       "<Figure size 600x300 with 1 Axes>"
      ]
     },
     "metadata": {},
     "output_type": "display_data"
    }
   ],
   "source": [
    "# box plot to visualize the distribution of BPM\n",
    "plt.figure(figsize=(6, 3))\n",
    "sns.boxplot(data=df_rock, x='BPM')\n",
    "plt.title(\"BPM Distribution for Rock Genre\")\n",
    "plt.show()"
   ]
  },
  {
   "cell_type": "markdown",
   "metadata": {},
   "source": [
    "**Insight**\n",
    "\n",
    "- The mean BPM for the rock songs in the dataset is 120 BPM. This could be indicative of the typical tempo range for a rock music. Using the mean to identify the typical BPM (Beats Per Minute) for a rock genre is a reasonable approach, especially if you have a limited amount of BPM data. The mean, also known as the average, is a simple and straightforward way to summarize data and get a sense of the central tendency.\n",
    "\n",
    "- We identified three outlier data points with BPM values of 161, 161, and 172. These values significantly exceed the upper bound of 160.5 calculated using the Interquartile Range (IQR) method. Outliers in the data may indicate songs that deviate from the typical tempo associated with rock music. The three outliers are:\n",
    "    * rock.00069.wav = Witches Promise by Jethro Tull\n",
    "    * rock.00042.wav = D'yer Mak'er by Led Zeppelin\n",
    "    * rock.00010.wav = Worthy by Ani DiFranco\n",
    "    \n",
    "    Identifying an outlier in a track's BPM value doesn't necessarily mean that the track is atypical based on the dataset. Outliers are data points that significantly deviate from the typical range of values in a dataset, but they can have various interpretations and may not always indicate atypicality in the context of music genres. We should consider other factors such as subgenre, artist intent, and historical context."
   ]
  },
  {
   "cell_type": "markdown",
   "metadata": {},
   "source": [
    "#### **Key Distribution**"
   ]
  },
  {
   "cell_type": "code",
   "execution_count": 11,
   "metadata": {},
   "outputs": [
    {
     "data": {
      "text/html": [
       "<div>\n",
       "<style scoped>\n",
       "    .dataframe tbody tr th:only-of-type {\n",
       "        vertical-align: middle;\n",
       "    }\n",
       "\n",
       "    .dataframe tbody tr th {\n",
       "        vertical-align: top;\n",
       "    }\n",
       "\n",
       "    .dataframe thead th {\n",
       "        text-align: right;\n",
       "    }\n",
       "</style>\n",
       "<table border=\"1\" class=\"dataframe\">\n",
       "  <thead>\n",
       "    <tr style=\"text-align: right;\">\n",
       "      <th></th>\n",
       "      <th>Key</th>\n",
       "      <th>count</th>\n",
       "    </tr>\n",
       "  </thead>\n",
       "  <tbody>\n",
       "    <tr>\n",
       "      <th>0</th>\n",
       "      <td>A</td>\n",
       "      <td>19</td>\n",
       "    </tr>\n",
       "    <tr>\n",
       "      <th>1</th>\n",
       "      <td>D</td>\n",
       "      <td>14</td>\n",
       "    </tr>\n",
       "    <tr>\n",
       "      <th>2</th>\n",
       "      <td>C</td>\n",
       "      <td>13</td>\n",
       "    </tr>\n",
       "    <tr>\n",
       "      <th>3</th>\n",
       "      <td>G</td>\n",
       "      <td>12</td>\n",
       "    </tr>\n",
       "    <tr>\n",
       "      <th>4</th>\n",
       "      <td>F</td>\n",
       "      <td>8</td>\n",
       "    </tr>\n",
       "    <tr>\n",
       "      <th>5</th>\n",
       "      <td>E</td>\n",
       "      <td>8</td>\n",
       "    </tr>\n",
       "    <tr>\n",
       "      <th>6</th>\n",
       "      <td>D#</td>\n",
       "      <td>5</td>\n",
       "    </tr>\n",
       "    <tr>\n",
       "      <th>7</th>\n",
       "      <td>C#</td>\n",
       "      <td>5</td>\n",
       "    </tr>\n",
       "    <tr>\n",
       "      <th>8</th>\n",
       "      <td>F#</td>\n",
       "      <td>5</td>\n",
       "    </tr>\n",
       "    <tr>\n",
       "      <th>9</th>\n",
       "      <td>B</td>\n",
       "      <td>4</td>\n",
       "    </tr>\n",
       "    <tr>\n",
       "      <th>10</th>\n",
       "      <td>G#</td>\n",
       "      <td>4</td>\n",
       "    </tr>\n",
       "    <tr>\n",
       "      <th>11</th>\n",
       "      <td>A#</td>\n",
       "      <td>3</td>\n",
       "    </tr>\n",
       "  </tbody>\n",
       "</table>\n",
       "</div>"
      ],
      "text/plain": [
       "   Key  count\n",
       "0    A     19\n",
       "1    D     14\n",
       "2    C     13\n",
       "3    G     12\n",
       "4    F      8\n",
       "5    E      8\n",
       "6   D#      5\n",
       "7   C#      5\n",
       "8   F#      5\n",
       "9    B      4\n",
       "10  G#      4\n",
       "11  A#      3"
      ]
     },
     "execution_count": 11,
     "metadata": {},
     "output_type": "execute_result"
    }
   ],
   "source": [
    "# key distribution\n",
    "key_rock = df_rock['Key'].value_counts().reset_index()\n",
    "key_rock"
   ]
  },
  {
   "cell_type": "code",
   "execution_count": 12,
   "metadata": {},
   "outputs": [
    {
     "data": {
      "image/png": "[encoded data removed]",
      "text/plain": [
       "<Figure size 800x500 with 1 Axes>"
      ]
     },
     "metadata": {},
     "output_type": "display_data"
    }
   ],
   "source": [
    "# bar plot to visualize the key distribution\n",
    "plt.figure(figsize=(8, 5))\n",
    "\n",
    "sns.barplot(x='Key', y='count', data=key_rock, palette='Spectral')\n",
    "plt.title('Popluar Keys in Rock Genre')\n",
    "plt.xlabel('Key')\n",
    "plt.ylabel('Ammount of Songs')\n",
    "plt.tight_layout()\n",
    "\n",
    "plt.show()"
   ]
  },
  {
   "cell_type": "markdown",
   "metadata": {},
   "source": [
    "**Insight**\n",
    "\n",
    "- The data shows that the key of A is the most popular in the rock genre, with a count of 19 songs. Following closely, the key of D is the second most popular, with 14 songs. This suggests that the combination of the key of A and the BPM range of rock music is well-suited to the energetic and powerful sound associated with rock music.\n"
   ]
  },
  {
   "cell_type": "markdown",
   "metadata": {},
   "source": [
    "### **Metal**"
   ]
  },
  {
   "cell_type": "code",
   "execution_count": 13,
   "metadata": {},
   "outputs": [],
   "source": [
    "# Function to detect the key of an audio file\n",
    "def detect_key(audio_file_path):\n",
    "    y, sr = librosa.load(audio_file_path)\n",
    "    chroma = librosa.feature.chroma_cqt(y=y, sr=sr)\n",
    "    chroma_mean = chroma.mean(axis=1)\n",
    "    key_index = chroma_mean.argmax()\n",
    "    keys = ['C', 'C#', 'D', 'D#', 'E', 'F', 'F#', 'G', 'G#', 'A', 'A#', 'B']\n",
    "    detected_key = keys[key_index]\n",
    "    return detected_key\n",
    "\n",
    "# Function to get the BPM of an audio file\n",
    "def get_bpm(audio_file):\n",
    "    y, sr = librosa.load(audio_file)\n",
    "    onset_env = librosa.onset.onset_strength(y=y, sr=sr)\n",
    "    tempo, _ = librosa.beat.beat_track(onset_envelope=onset_env, sr=sr)\n",
    "    return tempo\n",
    "\n",
    "# Function to process files in a folder, including key detection\n",
    "def process_files_in_folder(folder_path):\n",
    "    data = {'File Name': [], 'BPM': [], 'Key': [], 'Genre': []}\n",
    "    for filename in os.listdir(folder_path):\n",
    "        if filename.endswith(\".wav\"):\n",
    "            audio_file = os.path.join(folder_path, filename)\n",
    "            bpm = get_bpm(audio_file)\n",
    "            key = detect_key(audio_file)\n",
    "\n",
    "            data['File Name'].append(filename)\n",
    "            data['BPM'].append(bpm.round())\n",
    "            data['Key'].append(key)\n",
    "            data['Genre'].append('Metal')\n",
    "\n",
    "    df = pd.DataFrame(data)\n",
    "    return df\n",
    "\n",
    "if __name__ == \"__main__\":\n",
    "    folder_path = \"GTZAN Dataset - Music Genre Classification/Data/genres_original/metal\"\n",
    "    df_metal = process_files_in_folder(folder_path)"
   ]
  },
  {
   "cell_type": "markdown",
   "metadata": {},
   "source": [
    "#### **BPM Distribution**"
   ]
  },
  {
   "cell_type": "code",
   "execution_count": 14,
   "metadata": {},
   "outputs": [
    {
     "data": {
      "text/plain": [
       "123.75"
      ]
     },
     "execution_count": 14,
     "metadata": {},
     "output_type": "execute_result"
    }
   ],
   "source": [
    "# typical tempo\n",
    "df_metal['BPM'].mean()"
   ]
  },
  {
   "cell_type": "code",
   "execution_count": 15,
   "metadata": {},
   "outputs": [
    {
     "name": "stdout",
     "output_type": "stream",
     "text": [
      "Lower Bound: 73.5\n",
      "Upper Bound: 173.5\n"
     ]
    }
   ],
   "source": [
    "# calculate lower and upper bounds\n",
    "Q1 = df_metal['BPM'].quantile(0.25)\n",
    "Q3 = df_metal['BPM'].quantile(0.75)\n",
    "IQR = Q3 - Q1\n",
    "\n",
    "lower_bound = Q1 - 1.5 * IQR\n",
    "upper_bound = Q3 + 1.5 * IQR\n",
    "\n",
    "print(\"Lower Bound:\", lower_bound)\n",
    "print(\"Upper Bound:\", upper_bound)"
   ]
  },
  {
   "cell_type": "code",
   "execution_count": 16,
   "metadata": {},
   "outputs": [
    {
     "data": {
      "text/html": [
       "<div>\n",
       "<style scoped>\n",
       "    .dataframe tbody tr th:only-of-type {\n",
       "        vertical-align: middle;\n",
       "    }\n",
       "\n",
       "    .dataframe tbody tr th {\n",
       "        vertical-align: top;\n",
       "    }\n",
       "\n",
       "    .dataframe thead th {\n",
       "        text-align: right;\n",
       "    }\n",
       "</style>\n",
       "<table border=\"1\" class=\"dataframe\">\n",
       "  <thead>\n",
       "    <tr style=\"text-align: right;\">\n",
       "      <th></th>\n",
       "      <th>File Name</th>\n",
       "      <th>BPM</th>\n",
       "      <th>Key</th>\n",
       "      <th>Genre</th>\n",
       "    </tr>\n",
       "  </thead>\n",
       "  <tbody>\n",
       "    <tr>\n",
       "      <th>93</th>\n",
       "      <td>metal.00093.wav</td>\n",
       "      <td>172.0</td>\n",
       "      <td>G</td>\n",
       "      <td>Metal</td>\n",
       "    </tr>\n",
       "    <tr>\n",
       "      <th>68</th>\n",
       "      <td>metal.00068.wav</td>\n",
       "      <td>161.0</td>\n",
       "      <td>A</td>\n",
       "      <td>Metal</td>\n",
       "    </tr>\n",
       "    <tr>\n",
       "      <th>69</th>\n",
       "      <td>metal.00069.wav</td>\n",
       "      <td>161.0</td>\n",
       "      <td>E</td>\n",
       "      <td>Metal</td>\n",
       "    </tr>\n",
       "    <tr>\n",
       "      <th>80</th>\n",
       "      <td>metal.00080.wav</td>\n",
       "      <td>161.0</td>\n",
       "      <td>F#</td>\n",
       "      <td>Metal</td>\n",
       "    </tr>\n",
       "    <tr>\n",
       "      <th>96</th>\n",
       "      <td>metal.00096.wav</td>\n",
       "      <td>161.0</td>\n",
       "      <td>D</td>\n",
       "      <td>Metal</td>\n",
       "    </tr>\n",
       "    <tr>\n",
       "      <th>...</th>\n",
       "      <td>...</td>\n",
       "      <td>...</td>\n",
       "      <td>...</td>\n",
       "      <td>...</td>\n",
       "    </tr>\n",
       "    <tr>\n",
       "      <th>43</th>\n",
       "      <td>metal.00043.wav</td>\n",
       "      <td>96.0</td>\n",
       "      <td>F#</td>\n",
       "      <td>Metal</td>\n",
       "    </tr>\n",
       "    <tr>\n",
       "      <th>0</th>\n",
       "      <td>metal.00000.wav</td>\n",
       "      <td>96.0</td>\n",
       "      <td>G</td>\n",
       "      <td>Metal</td>\n",
       "    </tr>\n",
       "    <tr>\n",
       "      <th>90</th>\n",
       "      <td>metal.00090.wav</td>\n",
       "      <td>89.0</td>\n",
       "      <td>A#</td>\n",
       "      <td>Metal</td>\n",
       "    </tr>\n",
       "    <tr>\n",
       "      <th>60</th>\n",
       "      <td>metal.00060.wav</td>\n",
       "      <td>89.0</td>\n",
       "      <td>E</td>\n",
       "      <td>Metal</td>\n",
       "    </tr>\n",
       "    <tr>\n",
       "      <th>71</th>\n",
       "      <td>metal.00071.wav</td>\n",
       "      <td>86.0</td>\n",
       "      <td>D#</td>\n",
       "      <td>Metal</td>\n",
       "    </tr>\n",
       "  </tbody>\n",
       "</table>\n",
       "<p>100 rows × 4 columns</p>\n",
       "</div>"
      ],
      "text/plain": [
       "          File Name    BPM Key  Genre\n",
       "93  metal.00093.wav  172.0   G  Metal\n",
       "68  metal.00068.wav  161.0   A  Metal\n",
       "69  metal.00069.wav  161.0   E  Metal\n",
       "80  metal.00080.wav  161.0  F#  Metal\n",
       "96  metal.00096.wav  161.0   D  Metal\n",
       "..              ...    ...  ..    ...\n",
       "43  metal.00043.wav   96.0  F#  Metal\n",
       "0   metal.00000.wav   96.0   G  Metal\n",
       "90  metal.00090.wav   89.0  A#  Metal\n",
       "60  metal.00060.wav   89.0   E  Metal\n",
       "71  metal.00071.wav   86.0  D#  Metal\n",
       "\n",
       "[100 rows x 4 columns]"
      ]
     },
     "execution_count": 16,
     "metadata": {},
     "output_type": "execute_result"
    }
   ],
   "source": [
    "df_metal.sort_values(by='BPM', ascending=False)"
   ]
  },
  {
   "cell_type": "code",
   "execution_count": 17,
   "metadata": {},
   "outputs": [
    {
     "data": {
      "image/png": "[encoded data removed]",
      "text/plain": [
       "<Figure size 600x300 with 1 Axes>"
      ]
     },
     "metadata": {},
     "output_type": "display_data"
    }
   ],
   "source": [
    "# box plot to visualize the distribution of BPM\n",
    "plt.figure(figsize=(6, 3))\n",
    "sns.boxplot(data=df_metal, x='BPM')\n",
    "plt.title(\"BPM Distribution for Metal Genre\")\n",
    "plt.show()"
   ]
  },
  {
   "cell_type": "markdown",
   "metadata": {},
   "source": [
    "**Insight**\n",
    "\n",
    "- The mean BPM for the metal songs in the dataset is 124 BPM. This could be indicative of the typical tempo range for a metal music.\n",
    "- The calculated lower bound of 73.5 BPM and the upper bound of 173.5 BPM result in a substantial range. So far, this range is the largest among the analyzed genres, indicating the extensive variability in tempo within the \"Metal\" genre.\n",
    "- The absence of outliers and the wide yet well-contained range of BPM values may reflect the consistency and established conventions within the \"Metal\" genre. While the tempo can vary significantly, it remains within a certain framework, maintaining the genre's characteristic sound and feel."
   ]
  },
  {
   "cell_type": "markdown",
   "metadata": {},
   "source": [
    "#### **Key Distribution**"
   ]
  },
  {
   "cell_type": "code",
   "execution_count": 18,
   "metadata": {},
   "outputs": [
    {
     "data": {
      "text/html": [
       "<div>\n",
       "<style scoped>\n",
       "    .dataframe tbody tr th:only-of-type {\n",
       "        vertical-align: middle;\n",
       "    }\n",
       "\n",
       "    .dataframe tbody tr th {\n",
       "        vertical-align: top;\n",
       "    }\n",
       "\n",
       "    .dataframe thead th {\n",
       "        text-align: right;\n",
       "    }\n",
       "</style>\n",
       "<table border=\"1\" class=\"dataframe\">\n",
       "  <thead>\n",
       "    <tr style=\"text-align: right;\">\n",
       "      <th></th>\n",
       "      <th>Key</th>\n",
       "      <th>count</th>\n",
       "    </tr>\n",
       "  </thead>\n",
       "  <tbody>\n",
       "    <tr>\n",
       "      <th>0</th>\n",
       "      <td>A</td>\n",
       "      <td>22</td>\n",
       "    </tr>\n",
       "    <tr>\n",
       "      <th>1</th>\n",
       "      <td>B</td>\n",
       "      <td>10</td>\n",
       "    </tr>\n",
       "    <tr>\n",
       "      <th>2</th>\n",
       "      <td>F#</td>\n",
       "      <td>10</td>\n",
       "    </tr>\n",
       "    <tr>\n",
       "      <th>3</th>\n",
       "      <td>D#</td>\n",
       "      <td>10</td>\n",
       "    </tr>\n",
       "    <tr>\n",
       "      <th>4</th>\n",
       "      <td>E</td>\n",
       "      <td>9</td>\n",
       "    </tr>\n",
       "    <tr>\n",
       "      <th>5</th>\n",
       "      <td>G</td>\n",
       "      <td>8</td>\n",
       "    </tr>\n",
       "    <tr>\n",
       "      <th>6</th>\n",
       "      <td>D</td>\n",
       "      <td>8</td>\n",
       "    </tr>\n",
       "    <tr>\n",
       "      <th>7</th>\n",
       "      <td>G#</td>\n",
       "      <td>7</td>\n",
       "    </tr>\n",
       "    <tr>\n",
       "      <th>8</th>\n",
       "      <td>C#</td>\n",
       "      <td>6</td>\n",
       "    </tr>\n",
       "    <tr>\n",
       "      <th>9</th>\n",
       "      <td>A#</td>\n",
       "      <td>6</td>\n",
       "    </tr>\n",
       "    <tr>\n",
       "      <th>10</th>\n",
       "      <td>C</td>\n",
       "      <td>3</td>\n",
       "    </tr>\n",
       "    <tr>\n",
       "      <th>11</th>\n",
       "      <td>F</td>\n",
       "      <td>1</td>\n",
       "    </tr>\n",
       "  </tbody>\n",
       "</table>\n",
       "</div>"
      ],
      "text/plain": [
       "   Key  count\n",
       "0    A     22\n",
       "1    B     10\n",
       "2   F#     10\n",
       "3   D#     10\n",
       "4    E      9\n",
       "5    G      8\n",
       "6    D      8\n",
       "7   G#      7\n",
       "8   C#      6\n",
       "9   A#      6\n",
       "10   C      3\n",
       "11   F      1"
      ]
     },
     "execution_count": 18,
     "metadata": {},
     "output_type": "execute_result"
    }
   ],
   "source": [
    "# key distribution\n",
    "key_metal = df_metal['Key'].value_counts().reset_index()\n",
    "key_metal"
   ]
  },
  {
   "cell_type": "code",
   "execution_count": 19,
   "metadata": {},
   "outputs": [
    {
     "data": {
      "image/png": "[encoded data removed]",
      "text/plain": [
       "<Figure size 800x500 with 1 Axes>"
      ]
     },
     "metadata": {},
     "output_type": "display_data"
    }
   ],
   "source": [
    "# bar plot to visualize the key distribution\n",
    "plt.figure(figsize=(8, 5))\n",
    "\n",
    "sns.barplot(x='Key', y='count', data=key_metal, palette='Spectral')\n",
    "plt.title('Popluar Keys in Metal Genre')\n",
    "plt.xlabel('Key')\n",
    "plt.ylabel('Ammount of Songs')\n",
    "plt.tight_layout()\n",
    "\n",
    "plt.show()"
   ]
  },
  {
   "cell_type": "markdown",
   "metadata": {},
   "source": [
    "**Insight**\n",
    "- The data reveals that the key of A is the most popular in the \"Metal\" genre, with 22 songs in this key. This suggests that the key of A complements the heavy and powerful nature of the genre. \n",
    "- This is a notable finding, especially considering that the same key (A) is also popular in the \"Rock\" genre. The shared popularity of the A key in both genres suggests that A is a key with characteristics that resonate with the energy, intensity, and sonic palette of rock and metal music."
   ]
  },
  {
   "cell_type": "markdown",
   "metadata": {},
   "source": [
    "### **Disco**"
   ]
  },
  {
   "cell_type": "code",
   "execution_count": 20,
   "metadata": {},
   "outputs": [],
   "source": [
    "# Function to detect the key of an audio file\n",
    "def detect_key(audio_file_path):\n",
    "    y, sr = librosa.load(audio_file_path)\n",
    "    chroma = librosa.feature.chroma_cqt(y=y, sr=sr)\n",
    "    chroma_mean = chroma.mean(axis=1)\n",
    "    key_index = chroma_mean.argmax()\n",
    "    keys = ['C', 'C#', 'D', 'D#', 'E', 'F', 'F#', 'G', 'G#', 'A', 'A#', 'B']\n",
    "    detected_key = keys[key_index]\n",
    "    return detected_key\n",
    "\n",
    "# Function to get the BPM of an audio file\n",
    "def get_bpm(audio_file):\n",
    "    y, sr = librosa.load(audio_file)\n",
    "    onset_env = librosa.onset.onset_strength(y=y, sr=sr)\n",
    "    tempo, _ = librosa.beat.beat_track(onset_envelope=onset_env, sr=sr)\n",
    "    return tempo\n",
    "\n",
    "# Function to process files in a folder, including key detection\n",
    "def process_files_in_folder(folder_path):\n",
    "    data = {'File Name': [], 'BPM': [], 'Key': [], 'Genre': []}\n",
    "    for filename in os.listdir(folder_path):\n",
    "        if filename.endswith(\".wav\"):\n",
    "            audio_file = os.path.join(folder_path, filename)\n",
    "            bpm = get_bpm(audio_file)\n",
    "            key = detect_key(audio_file)\n",
    "\n",
    "            data['File Name'].append(filename)\n",
    "            data['BPM'].append(bpm.round())\n",
    "            data['Key'].append(key)\n",
    "            data['Genre'].append('Disco')\n",
    "\n",
    "    df = pd.DataFrame(data)\n",
    "    return df\n",
    "\n",
    "if __name__ == \"__main__\":\n",
    "    folder_path = \"GTZAN Dataset - Music Genre Classification/Data/genres_original/disco\"\n",
    "    df_disco = process_files_in_folder(folder_path)"
   ]
  },
  {
   "cell_type": "markdown",
   "metadata": {},
   "source": [
    "#### **BPM Distribution**"
   ]
  },
  {
   "cell_type": "code",
   "execution_count": 21,
   "metadata": {},
   "outputs": [
    {
     "data": {
      "text/plain": [
       "119.88"
      ]
     },
     "execution_count": 21,
     "metadata": {},
     "output_type": "execute_result"
    }
   ],
   "source": [
    "# typical tempo\n",
    "df_disco['BPM'].mean()"
   ]
  },
  {
   "cell_type": "code",
   "execution_count": 22,
   "metadata": {},
   "outputs": [
    {
     "name": "stdout",
     "output_type": "stream",
     "text": [
      "Lower Bound: 86.5\n",
      "Upper Bound: 154.5\n"
     ]
    }
   ],
   "source": [
    "# calculate lower and upper bounds\n",
    "Q1 = df_disco['BPM'].quantile(0.25)\n",
    "Q3 = df_disco['BPM'].quantile(0.75)\n",
    "IQR = Q3 - Q1\n",
    "\n",
    "lower_bound = Q1 - 1.5 * IQR\n",
    "upper_bound = Q3 + 1.5 * IQR\n",
    "\n",
    "print(\"Lower Bound:\", lower_bound)\n",
    "print(\"Upper Bound:\", upper_bound)"
   ]
  },
  {
   "cell_type": "code",
   "execution_count": 23,
   "metadata": {},
   "outputs": [
    {
     "data": {
      "text/html": [
       "<div>\n",
       "<style scoped>\n",
       "    .dataframe tbody tr th:only-of-type {\n",
       "        vertical-align: middle;\n",
       "    }\n",
       "\n",
       "    .dataframe tbody tr th {\n",
       "        vertical-align: top;\n",
       "    }\n",
       "\n",
       "    .dataframe thead th {\n",
       "        text-align: right;\n",
       "    }\n",
       "</style>\n",
       "<table border=\"1\" class=\"dataframe\">\n",
       "  <thead>\n",
       "    <tr style=\"text-align: right;\">\n",
       "      <th></th>\n",
       "      <th>File Name</th>\n",
       "      <th>BPM</th>\n",
       "      <th>Key</th>\n",
       "      <th>Genre</th>\n",
       "    </tr>\n",
       "  </thead>\n",
       "  <tbody>\n",
       "    <tr>\n",
       "      <th>20</th>\n",
       "      <td>disco.00020.wav</td>\n",
       "      <td>161.0</td>\n",
       "      <td>B</td>\n",
       "      <td>Disco</td>\n",
       "    </tr>\n",
       "    <tr>\n",
       "      <th>41</th>\n",
       "      <td>disco.00041.wav</td>\n",
       "      <td>161.0</td>\n",
       "      <td>D</td>\n",
       "      <td>Disco</td>\n",
       "    </tr>\n",
       "    <tr>\n",
       "      <th>30</th>\n",
       "      <td>disco.00030.wav</td>\n",
       "      <td>136.0</td>\n",
       "      <td>B</td>\n",
       "      <td>Disco</td>\n",
       "    </tr>\n",
       "    <tr>\n",
       "      <th>72</th>\n",
       "      <td>disco.00072.wav</td>\n",
       "      <td>136.0</td>\n",
       "      <td>D</td>\n",
       "      <td>Disco</td>\n",
       "    </tr>\n",
       "    <tr>\n",
       "      <th>36</th>\n",
       "      <td>disco.00036.wav</td>\n",
       "      <td>136.0</td>\n",
       "      <td>F</td>\n",
       "      <td>Disco</td>\n",
       "    </tr>\n",
       "    <tr>\n",
       "      <th>...</th>\n",
       "      <td>...</td>\n",
       "      <td>...</td>\n",
       "      <td>...</td>\n",
       "      <td>...</td>\n",
       "    </tr>\n",
       "    <tr>\n",
       "      <th>91</th>\n",
       "      <td>disco.00091.wav</td>\n",
       "      <td>99.0</td>\n",
       "      <td>C</td>\n",
       "      <td>Disco</td>\n",
       "    </tr>\n",
       "    <tr>\n",
       "      <th>67</th>\n",
       "      <td>disco.00067.wav</td>\n",
       "      <td>99.0</td>\n",
       "      <td>A</td>\n",
       "      <td>Disco</td>\n",
       "    </tr>\n",
       "    <tr>\n",
       "      <th>11</th>\n",
       "      <td>disco.00011.wav</td>\n",
       "      <td>96.0</td>\n",
       "      <td>A</td>\n",
       "      <td>Disco</td>\n",
       "    </tr>\n",
       "    <tr>\n",
       "      <th>13</th>\n",
       "      <td>disco.00013.wav</td>\n",
       "      <td>89.0</td>\n",
       "      <td>E</td>\n",
       "      <td>Disco</td>\n",
       "    </tr>\n",
       "    <tr>\n",
       "      <th>56</th>\n",
       "      <td>disco.00056.wav</td>\n",
       "      <td>89.0</td>\n",
       "      <td>F#</td>\n",
       "      <td>Disco</td>\n",
       "    </tr>\n",
       "  </tbody>\n",
       "</table>\n",
       "<p>100 rows × 4 columns</p>\n",
       "</div>"
      ],
      "text/plain": [
       "          File Name    BPM Key  Genre\n",
       "20  disco.00020.wav  161.0   B  Disco\n",
       "41  disco.00041.wav  161.0   D  Disco\n",
       "30  disco.00030.wav  136.0   B  Disco\n",
       "72  disco.00072.wav  136.0   D  Disco\n",
       "36  disco.00036.wav  136.0   F  Disco\n",
       "..              ...    ...  ..    ...\n",
       "91  disco.00091.wav   99.0   C  Disco\n",
       "67  disco.00067.wav   99.0   A  Disco\n",
       "11  disco.00011.wav   96.0   A  Disco\n",
       "13  disco.00013.wav   89.0   E  Disco\n",
       "56  disco.00056.wav   89.0  F#  Disco\n",
       "\n",
       "[100 rows x 4 columns]"
      ]
     },
     "execution_count": 23,
     "metadata": {},
     "output_type": "execute_result"
    }
   ],
   "source": [
    "df_disco.sort_values(by='BPM', ascending=False)"
   ]
  },
  {
   "cell_type": "code",
   "execution_count": 24,
   "metadata": {},
   "outputs": [
    {
     "data": {
      "text/html": [
       "<div>\n",
       "<style scoped>\n",
       "    .dataframe tbody tr th:only-of-type {\n",
       "        vertical-align: middle;\n",
       "    }\n",
       "\n",
       "    .dataframe tbody tr th {\n",
       "        vertical-align: top;\n",
       "    }\n",
       "\n",
       "    .dataframe thead th {\n",
       "        text-align: right;\n",
       "    }\n",
       "</style>\n",
       "<table border=\"1\" class=\"dataframe\">\n",
       "  <thead>\n",
       "    <tr style=\"text-align: right;\">\n",
       "      <th></th>\n",
       "      <th>File Name</th>\n",
       "      <th>BPM</th>\n",
       "      <th>Key</th>\n",
       "      <th>Genre</th>\n",
       "    </tr>\n",
       "  </thead>\n",
       "  <tbody>\n",
       "    <tr>\n",
       "      <th>20</th>\n",
       "      <td>disco.00020.wav</td>\n",
       "      <td>161.0</td>\n",
       "      <td>B</td>\n",
       "      <td>Disco</td>\n",
       "    </tr>\n",
       "    <tr>\n",
       "      <th>41</th>\n",
       "      <td>disco.00041.wav</td>\n",
       "      <td>161.0</td>\n",
       "      <td>D</td>\n",
       "      <td>Disco</td>\n",
       "    </tr>\n",
       "  </tbody>\n",
       "</table>\n",
       "</div>"
      ],
      "text/plain": [
       "          File Name    BPM Key  Genre\n",
       "20  disco.00020.wav  161.0   B  Disco\n",
       "41  disco.00041.wav  161.0   D  Disco"
      ]
     },
     "execution_count": 24,
     "metadata": {},
     "output_type": "execute_result"
    }
   ],
   "source": [
    "# outliers\n",
    "df_disco.sort_values(by='BPM',ascending=False).head(2)"
   ]
  },
  {
   "cell_type": "code",
   "execution_count": 25,
   "metadata": {},
   "outputs": [
    {
     "data": {
      "image/png": "[encoded data removed]",
      "text/plain": [
       "<Figure size 600x300 with 1 Axes>"
      ]
     },
     "metadata": {},
     "output_type": "display_data"
    }
   ],
   "source": [
    "# Create a box plot to visualize the distribution of BPM\n",
    "plt.figure(figsize=(6, 3))\n",
    "sns.boxplot(data=df_disco, x='BPM')\n",
    "plt.title(\"BPM Distribution for Disco Genre\")\n",
    "plt.show()"
   ]
  },
  {
   "cell_type": "markdown",
   "metadata": {},
   "source": [
    "**Insight**\n",
    "\n",
    "- The \"Disco\" genre shows a mean BPM of 120, which is the same as the \"Rock\" genre. This commonality in mean BPM suggests that, despite being distinct musical genres, both \"Disco\" and \"Rock\" have songs with a similar tempo, around 120 BPM. This may be a surprising finding, as \"Disco\" is typically associated with dance and groove, while \"Rock\" is known for its intensity and aggression.\n",
    "- The calculated lower bound of 86.5 BPM and the upper bound of 154.5 BPM result in a relatively narrow range. This is the lowest range observed among the analyzed genres. The limited range indicates that \"Disco\" music is characterized by a consistent tempo and may not exhibit as much variability in tempo as other genres.\n",
    "- Despite the narrow range, the data includes two outliers with a BPM of 161. These outliers suggest that there are \"Disco\" songs with tempos significantly higher than the majority data from the dataset. The outliers are:\n",
    "    * disco.00020 = Patches by Clarence Carter\n",
    "    * disco.00041 = Always and Forever by Heatwave "
   ]
  },
  {
   "cell_type": "markdown",
   "metadata": {},
   "source": [
    "#### **Key Distribution**"
   ]
  },
  {
   "cell_type": "code",
   "execution_count": 26,
   "metadata": {},
   "outputs": [
    {
     "data": {
      "text/html": [
       "<div>\n",
       "<style scoped>\n",
       "    .dataframe tbody tr th:only-of-type {\n",
       "        vertical-align: middle;\n",
       "    }\n",
       "\n",
       "    .dataframe tbody tr th {\n",
       "        vertical-align: top;\n",
       "    }\n",
       "\n",
       "    .dataframe thead th {\n",
       "        text-align: right;\n",
       "    }\n",
       "</style>\n",
       "<table border=\"1\" class=\"dataframe\">\n",
       "  <thead>\n",
       "    <tr style=\"text-align: right;\">\n",
       "      <th></th>\n",
       "      <th>Key</th>\n",
       "      <th>count</th>\n",
       "    </tr>\n",
       "  </thead>\n",
       "  <tbody>\n",
       "    <tr>\n",
       "      <th>0</th>\n",
       "      <td>C</td>\n",
       "      <td>15</td>\n",
       "    </tr>\n",
       "    <tr>\n",
       "      <th>1</th>\n",
       "      <td>E</td>\n",
       "      <td>14</td>\n",
       "    </tr>\n",
       "    <tr>\n",
       "      <th>2</th>\n",
       "      <td>G</td>\n",
       "      <td>12</td>\n",
       "    </tr>\n",
       "    <tr>\n",
       "      <th>3</th>\n",
       "      <td>F</td>\n",
       "      <td>11</td>\n",
       "    </tr>\n",
       "    <tr>\n",
       "      <th>4</th>\n",
       "      <td>D</td>\n",
       "      <td>10</td>\n",
       "    </tr>\n",
       "    <tr>\n",
       "      <th>5</th>\n",
       "      <td>A</td>\n",
       "      <td>9</td>\n",
       "    </tr>\n",
       "    <tr>\n",
       "      <th>6</th>\n",
       "      <td>F#</td>\n",
       "      <td>8</td>\n",
       "    </tr>\n",
       "    <tr>\n",
       "      <th>7</th>\n",
       "      <td>D#</td>\n",
       "      <td>6</td>\n",
       "    </tr>\n",
       "    <tr>\n",
       "      <th>8</th>\n",
       "      <td>G#</td>\n",
       "      <td>5</td>\n",
       "    </tr>\n",
       "    <tr>\n",
       "      <th>9</th>\n",
       "      <td>A#</td>\n",
       "      <td>4</td>\n",
       "    </tr>\n",
       "    <tr>\n",
       "      <th>10</th>\n",
       "      <td>B</td>\n",
       "      <td>4</td>\n",
       "    </tr>\n",
       "    <tr>\n",
       "      <th>11</th>\n",
       "      <td>C#</td>\n",
       "      <td>2</td>\n",
       "    </tr>\n",
       "  </tbody>\n",
       "</table>\n",
       "</div>"
      ],
      "text/plain": [
       "   Key  count\n",
       "0    C     15\n",
       "1    E     14\n",
       "2    G     12\n",
       "3    F     11\n",
       "4    D     10\n",
       "5    A      9\n",
       "6   F#      8\n",
       "7   D#      6\n",
       "8   G#      5\n",
       "9   A#      4\n",
       "10   B      4\n",
       "11  C#      2"
      ]
     },
     "execution_count": 26,
     "metadata": {},
     "output_type": "execute_result"
    }
   ],
   "source": [
    "# key distribution\n",
    "key_disco = df_disco['Key'].value_counts().reset_index()\n",
    "key_disco"
   ]
  },
  {
   "cell_type": "code",
   "execution_count": 27,
   "metadata": {},
   "outputs": [
    {
     "data": {
      "image/png": "[encoded data removed]",
      "text/plain": [
       "<Figure size 800x500 with 1 Axes>"
      ]
     },
     "metadata": {},
     "output_type": "display_data"
    }
   ],
   "source": [
    "# bar plot to visualize the key distribution\n",
    "plt.figure(figsize=(8, 5))\n",
    "\n",
    "sns.barplot(x='Key', y='count', data=key_disco, palette='Spectral')\n",
    "plt.title('Popluar Keys in Disco Genre')\n",
    "plt.xlabel('Key')\n",
    "plt.ylabel('Ammount of Songs')\n",
    "plt.tight_layout()\n",
    "\n",
    "plt.show()"
   ]
  },
  {
   "cell_type": "markdown",
   "metadata": {},
   "source": [
    "**Insight**\n",
    "- While the \"Disco\" genre features a variety of key choices, the most popular keys are C and E, with counts of 15 and 14, respectively. The selection of these keys combiend with the BPM range of disco music, may align with the genre's emphasis on danceability and groovy rhythms."
   ]
  },
  {
   "cell_type": "markdown",
   "metadata": {},
   "source": [
    "### **Pop** "
   ]
  },
  {
   "cell_type": "code",
   "execution_count": 28,
   "metadata": {},
   "outputs": [],
   "source": [
    "# Function to detect the key of an audio file\n",
    "def detect_key(audio_file_path):\n",
    "    y, sr = librosa.load(audio_file_path)\n",
    "    chroma = librosa.feature.chroma_cqt(y=y, sr=sr)\n",
    "    chroma_mean = chroma.mean(axis=1)\n",
    "    key_index = chroma_mean.argmax()\n",
    "    keys = ['C', 'C#', 'D', 'D#', 'E', 'F', 'F#', 'G', 'G#', 'A', 'A#', 'B']\n",
    "    detected_key = keys[key_index]\n",
    "    return detected_key\n",
    "\n",
    "# Function to get the BPM of an audio file\n",
    "def get_bpm(audio_file):\n",
    "    y, sr = librosa.load(audio_file)\n",
    "    onset_env = librosa.onset.onset_strength(y=y, sr=sr)\n",
    "    tempo, _ = librosa.beat.beat_track(onset_envelope=onset_env, sr=sr)\n",
    "    return tempo\n",
    "\n",
    "# Function to process files in a folder, including key detection\n",
    "def process_files_in_folder(folder_path):\n",
    "    data = {'File Name': [], 'BPM': [], 'Key': [], 'Genre': []}\n",
    "    for filename in os.listdir(folder_path):\n",
    "        if filename.endswith(\".wav\"):\n",
    "            audio_file = os.path.join(folder_path, filename)\n",
    "            bpm = get_bpm(audio_file)\n",
    "            key = detect_key(audio_file)\n",
    "\n",
    "            data['File Name'].append(filename)\n",
    "            data['BPM'].append(bpm.round())\n",
    "            data['Key'].append(key)\n",
    "            data['Genre'].append('Pop')\n",
    "\n",
    "    df = pd.DataFrame(data)\n",
    "    return df\n",
    "\n",
    "if __name__ == \"__main__\":\n",
    "    folder_path = \"GTZAN Dataset - Music Genre Classification/Data/genres_original/pop\"\n",
    "    df_pop = process_files_in_folder(folder_path)"
   ]
  },
  {
   "cell_type": "markdown",
   "metadata": {},
   "source": [
    "#### **BPM Distribution**"
   ]
  },
  {
   "cell_type": "code",
   "execution_count": 29,
   "metadata": {},
   "outputs": [
    {
     "data": {
      "text/plain": [
       "113.7"
      ]
     },
     "execution_count": 29,
     "metadata": {},
     "output_type": "execute_result"
    }
   ],
   "source": [
    "# typical tempo\n",
    "df_pop['BPM'].mean()"
   ]
  },
  {
   "cell_type": "code",
   "execution_count": 30,
   "metadata": {},
   "outputs": [
    {
     "name": "stdout",
     "output_type": "stream",
     "text": [
      "Lower Bound: 60.75\n",
      "Upper Bound: 162.75\n"
     ]
    }
   ],
   "source": [
    "# calculate lower and upper bounds\n",
    "Q1 = df_pop['BPM'].quantile(0.25)\n",
    "Q3 = df_pop['BPM'].quantile(0.75)\n",
    "IQR = Q3 - Q1\n",
    "\n",
    "lower_bound = Q1 - 1.5 * IQR\n",
    "upper_bound = Q3 + 1.5 * IQR\n",
    "\n",
    "print(\"Lower Bound:\", lower_bound)\n",
    "print(\"Upper Bound:\", upper_bound)"
   ]
  },
  {
   "cell_type": "code",
   "execution_count": 31,
   "metadata": {},
   "outputs": [
    {
     "data": {
      "text/html": [
       "<div>\n",
       "<style scoped>\n",
       "    .dataframe tbody tr th:only-of-type {\n",
       "        vertical-align: middle;\n",
       "    }\n",
       "\n",
       "    .dataframe tbody tr th {\n",
       "        vertical-align: top;\n",
       "    }\n",
       "\n",
       "    .dataframe thead th {\n",
       "        text-align: right;\n",
       "    }\n",
       "</style>\n",
       "<table border=\"1\" class=\"dataframe\">\n",
       "  <thead>\n",
       "    <tr style=\"text-align: right;\">\n",
       "      <th></th>\n",
       "      <th>File Name</th>\n",
       "      <th>BPM</th>\n",
       "      <th>Key</th>\n",
       "      <th>Genre</th>\n",
       "    </tr>\n",
       "  </thead>\n",
       "  <tbody>\n",
       "    <tr>\n",
       "      <th>8</th>\n",
       "      <td>pop.00008.wav</td>\n",
       "      <td>172.0</td>\n",
       "      <td>D#</td>\n",
       "      <td>Pop</td>\n",
       "    </tr>\n",
       "    <tr>\n",
       "      <th>99</th>\n",
       "      <td>pop.00099.wav</td>\n",
       "      <td>161.0</td>\n",
       "      <td>G#</td>\n",
       "      <td>Pop</td>\n",
       "    </tr>\n",
       "    <tr>\n",
       "      <th>29</th>\n",
       "      <td>pop.00029.wav</td>\n",
       "      <td>161.0</td>\n",
       "      <td>F#</td>\n",
       "      <td>Pop</td>\n",
       "    </tr>\n",
       "    <tr>\n",
       "      <th>94</th>\n",
       "      <td>pop.00094.wav</td>\n",
       "      <td>152.0</td>\n",
       "      <td>A#</td>\n",
       "      <td>Pop</td>\n",
       "    </tr>\n",
       "    <tr>\n",
       "      <th>26</th>\n",
       "      <td>pop.00026.wav</td>\n",
       "      <td>152.0</td>\n",
       "      <td>A</td>\n",
       "      <td>Pop</td>\n",
       "    </tr>\n",
       "    <tr>\n",
       "      <th>...</th>\n",
       "      <td>...</td>\n",
       "      <td>...</td>\n",
       "      <td>...</td>\n",
       "      <td>...</td>\n",
       "    </tr>\n",
       "    <tr>\n",
       "      <th>56</th>\n",
       "      <td>pop.00056.wav</td>\n",
       "      <td>89.0</td>\n",
       "      <td>G#</td>\n",
       "      <td>Pop</td>\n",
       "    </tr>\n",
       "    <tr>\n",
       "      <th>59</th>\n",
       "      <td>pop.00059.wav</td>\n",
       "      <td>89.0</td>\n",
       "      <td>G#</td>\n",
       "      <td>Pop</td>\n",
       "    </tr>\n",
       "    <tr>\n",
       "      <th>74</th>\n",
       "      <td>pop.00074.wav</td>\n",
       "      <td>83.0</td>\n",
       "      <td>C</td>\n",
       "      <td>Pop</td>\n",
       "    </tr>\n",
       "    <tr>\n",
       "      <th>39</th>\n",
       "      <td>pop.00039.wav</td>\n",
       "      <td>83.0</td>\n",
       "      <td>G#</td>\n",
       "      <td>Pop</td>\n",
       "    </tr>\n",
       "    <tr>\n",
       "      <th>27</th>\n",
       "      <td>pop.00027.wav</td>\n",
       "      <td>83.0</td>\n",
       "      <td>B</td>\n",
       "      <td>Pop</td>\n",
       "    </tr>\n",
       "  </tbody>\n",
       "</table>\n",
       "<p>100 rows × 4 columns</p>\n",
       "</div>"
      ],
      "text/plain": [
       "        File Name    BPM Key Genre\n",
       "8   pop.00008.wav  172.0  D#   Pop\n",
       "99  pop.00099.wav  161.0  G#   Pop\n",
       "29  pop.00029.wav  161.0  F#   Pop\n",
       "94  pop.00094.wav  152.0  A#   Pop\n",
       "26  pop.00026.wav  152.0   A   Pop\n",
       "..            ...    ...  ..   ...\n",
       "56  pop.00056.wav   89.0  G#   Pop\n",
       "59  pop.00059.wav   89.0  G#   Pop\n",
       "74  pop.00074.wav   83.0   C   Pop\n",
       "39  pop.00039.wav   83.0  G#   Pop\n",
       "27  pop.00027.wav   83.0   B   Pop\n",
       "\n",
       "[100 rows x 4 columns]"
      ]
     },
     "execution_count": 31,
     "metadata": {},
     "output_type": "execute_result"
    }
   ],
   "source": [
    "df_pop.sort_values(by='BPM', ascending=False)"
   ]
  },
  {
   "cell_type": "code",
   "execution_count": 32,
   "metadata": {},
   "outputs": [
    {
     "data": {
      "text/html": [
       "<div>\n",
       "<style scoped>\n",
       "    .dataframe tbody tr th:only-of-type {\n",
       "        vertical-align: middle;\n",
       "    }\n",
       "\n",
       "    .dataframe tbody tr th {\n",
       "        vertical-align: top;\n",
       "    }\n",
       "\n",
       "    .dataframe thead th {\n",
       "        text-align: right;\n",
       "    }\n",
       "</style>\n",
       "<table border=\"1\" class=\"dataframe\">\n",
       "  <thead>\n",
       "    <tr style=\"text-align: right;\">\n",
       "      <th></th>\n",
       "      <th>File Name</th>\n",
       "      <th>BPM</th>\n",
       "      <th>Key</th>\n",
       "      <th>Genre</th>\n",
       "    </tr>\n",
       "  </thead>\n",
       "  <tbody>\n",
       "    <tr>\n",
       "      <th>8</th>\n",
       "      <td>pop.00008.wav</td>\n",
       "      <td>172.0</td>\n",
       "      <td>D#</td>\n",
       "      <td>Pop</td>\n",
       "    </tr>\n",
       "  </tbody>\n",
       "</table>\n",
       "</div>"
      ],
      "text/plain": [
       "       File Name    BPM Key Genre\n",
       "8  pop.00008.wav  172.0  D#   Pop"
      ]
     },
     "execution_count": 32,
     "metadata": {},
     "output_type": "execute_result"
    }
   ],
   "source": [
    "# outliers\n",
    "df_pop.sort_values(by='BPM',ascending=False).head(1)"
   ]
  },
  {
   "cell_type": "code",
   "execution_count": 33,
   "metadata": {},
   "outputs": [
    {
     "data": {
      "image/png": "[encoded data removed]",
      "text/plain": [
       "<Figure size 600x300 with 1 Axes>"
      ]
     },
     "metadata": {},
     "output_type": "display_data"
    }
   ],
   "source": [
    "# visualize the distribution of BPM\n",
    "plt.figure(figsize=(6, 3))\n",
    "sns.boxplot(data=df_pop, x='BPM')\n",
    "plt.title(\"BPM Distribution for Pop Genre\")\n",
    "plt.show()"
   ]
  },
  {
   "cell_type": "markdown",
   "metadata": {},
   "source": [
    "**Insight**\n",
    "- The \"Pop\" genre exhibits the lowest mean BPM of 114 compared to the other analyzed genres. This suggests that pop music typically features songs with a relatively moderate tempo.\n",
    "- The data includes one outlier with a BPM of 172, which exceeds the upper bound. This outlier suggests that there are \"Pop\" songs with faster tempos that deviate from the typical range. The outliere is:\n",
    "    - pop.00008.wav = You Learn by Alanis morissette"
   ]
  },
  {
   "cell_type": "markdown",
   "metadata": {},
   "source": [
    "#### **Key Distribution**"
   ]
  },
  {
   "cell_type": "code",
   "execution_count": 34,
   "metadata": {},
   "outputs": [
    {
     "data": {
      "text/html": [
       "<div>\n",
       "<style scoped>\n",
       "    .dataframe tbody tr th:only-of-type {\n",
       "        vertical-align: middle;\n",
       "    }\n",
       "\n",
       "    .dataframe tbody tr th {\n",
       "        vertical-align: top;\n",
       "    }\n",
       "\n",
       "    .dataframe thead th {\n",
       "        text-align: right;\n",
       "    }\n",
       "</style>\n",
       "<table border=\"1\" class=\"dataframe\">\n",
       "  <thead>\n",
       "    <tr style=\"text-align: right;\">\n",
       "      <th></th>\n",
       "      <th>Key</th>\n",
       "      <th>count</th>\n",
       "    </tr>\n",
       "  </thead>\n",
       "  <tbody>\n",
       "    <tr>\n",
       "      <th>0</th>\n",
       "      <td>G</td>\n",
       "      <td>22</td>\n",
       "    </tr>\n",
       "    <tr>\n",
       "      <th>1</th>\n",
       "      <td>F</td>\n",
       "      <td>10</td>\n",
       "    </tr>\n",
       "    <tr>\n",
       "      <th>2</th>\n",
       "      <td>A</td>\n",
       "      <td>9</td>\n",
       "    </tr>\n",
       "    <tr>\n",
       "      <th>3</th>\n",
       "      <td>G#</td>\n",
       "      <td>9</td>\n",
       "    </tr>\n",
       "    <tr>\n",
       "      <th>4</th>\n",
       "      <td>F#</td>\n",
       "      <td>8</td>\n",
       "    </tr>\n",
       "    <tr>\n",
       "      <th>5</th>\n",
       "      <td>D#</td>\n",
       "      <td>8</td>\n",
       "    </tr>\n",
       "    <tr>\n",
       "      <th>6</th>\n",
       "      <td>C</td>\n",
       "      <td>7</td>\n",
       "    </tr>\n",
       "    <tr>\n",
       "      <th>7</th>\n",
       "      <td>B</td>\n",
       "      <td>6</td>\n",
       "    </tr>\n",
       "    <tr>\n",
       "      <th>8</th>\n",
       "      <td>D</td>\n",
       "      <td>6</td>\n",
       "    </tr>\n",
       "    <tr>\n",
       "      <th>9</th>\n",
       "      <td>A#</td>\n",
       "      <td>5</td>\n",
       "    </tr>\n",
       "    <tr>\n",
       "      <th>10</th>\n",
       "      <td>C#</td>\n",
       "      <td>5</td>\n",
       "    </tr>\n",
       "    <tr>\n",
       "      <th>11</th>\n",
       "      <td>E</td>\n",
       "      <td>5</td>\n",
       "    </tr>\n",
       "  </tbody>\n",
       "</table>\n",
       "</div>"
      ],
      "text/plain": [
       "   Key  count\n",
       "0    G     22\n",
       "1    F     10\n",
       "2    A      9\n",
       "3   G#      9\n",
       "4   F#      8\n",
       "5   D#      8\n",
       "6    C      7\n",
       "7    B      6\n",
       "8    D      6\n",
       "9   A#      5\n",
       "10  C#      5\n",
       "11   E      5"
      ]
     },
     "execution_count": 34,
     "metadata": {},
     "output_type": "execute_result"
    }
   ],
   "source": [
    "# key distribution\n",
    "key_pop = df_pop['Key'].value_counts().reset_index()\n",
    "key_pop"
   ]
  },
  {
   "cell_type": "code",
   "execution_count": 35,
   "metadata": {},
   "outputs": [
    {
     "data": {
      "image/png": "[encoded data removed]",
      "text/plain": [
       "<Figure size 800x500 with 1 Axes>"
      ]
     },
     "metadata": {},
     "output_type": "display_data"
    }
   ],
   "source": [
    "# bar plot to visualize the key distribution\n",
    "plt.figure(figsize=(8, 5))\n",
    "\n",
    "sns.barplot(x='Key', y='count', data=key_pop, palette='Spectral')\n",
    "plt.title('Popluar Keys in Pop Genre')\n",
    "plt.xlabel('Key')\n",
    "plt.ylabel('Ammount of Songs')\n",
    "plt.tight_layout()\n",
    "\n",
    "plt.show()"
   ]
  },
  {
   "cell_type": "markdown",
   "metadata": {},
   "source": [
    "**Insight**\n",
    "- The data reveals that the key of G is the most popular in the \"Pop\" genre, with a count of 22 songs. This dominance of the G key suggests that it holds a special place in the genre The prevalence of the G key might also have a significant influence on the overall sound and character of \"Pop\" music."
   ]
  },
  {
   "cell_type": "markdown",
   "metadata": {},
   "source": [
    "## **Analyze Key From All Genres**\n",
    "We will merge data frames from each genre, to analyze what keys are most frequently used in the four `genres based on the dataset."
   ]
  },
  {
   "cell_type": "code",
   "execution_count": 36,
   "metadata": {},
   "outputs": [],
   "source": [
    "df_result = pd.concat([df_disco,df_pop,df_rock,df_metal])"
   ]
  },
  {
   "cell_type": "code",
   "execution_count": 37,
   "metadata": {},
   "outputs": [
    {
     "data": {
      "text/html": [
       "<div>\n",
       "<style scoped>\n",
       "    .dataframe tbody tr th:only-of-type {\n",
       "        vertical-align: middle;\n",
       "    }\n",
       "\n",
       "    .dataframe tbody tr th {\n",
       "        vertical-align: top;\n",
       "    }\n",
       "\n",
       "    .dataframe thead th {\n",
       "        text-align: right;\n",
       "    }\n",
       "</style>\n",
       "<table border=\"1\" class=\"dataframe\">\n",
       "  <thead>\n",
       "    <tr style=\"text-align: right;\">\n",
       "      <th></th>\n",
       "      <th>Key</th>\n",
       "      <th>count</th>\n",
       "    </tr>\n",
       "  </thead>\n",
       "  <tbody>\n",
       "    <tr>\n",
       "      <th>0</th>\n",
       "      <td>A</td>\n",
       "      <td>59</td>\n",
       "    </tr>\n",
       "    <tr>\n",
       "      <th>1</th>\n",
       "      <td>G</td>\n",
       "      <td>54</td>\n",
       "    </tr>\n",
       "    <tr>\n",
       "      <th>2</th>\n",
       "      <td>C</td>\n",
       "      <td>38</td>\n",
       "    </tr>\n",
       "    <tr>\n",
       "      <th>3</th>\n",
       "      <td>D</td>\n",
       "      <td>38</td>\n",
       "    </tr>\n",
       "    <tr>\n",
       "      <th>4</th>\n",
       "      <td>E</td>\n",
       "      <td>36</td>\n",
       "    </tr>\n",
       "    <tr>\n",
       "      <th>5</th>\n",
       "      <td>F#</td>\n",
       "      <td>31</td>\n",
       "    </tr>\n",
       "    <tr>\n",
       "      <th>6</th>\n",
       "      <td>F</td>\n",
       "      <td>30</td>\n",
       "    </tr>\n",
       "    <tr>\n",
       "      <th>7</th>\n",
       "      <td>D#</td>\n",
       "      <td>29</td>\n",
       "    </tr>\n",
       "    <tr>\n",
       "      <th>8</th>\n",
       "      <td>G#</td>\n",
       "      <td>25</td>\n",
       "    </tr>\n",
       "    <tr>\n",
       "      <th>9</th>\n",
       "      <td>B</td>\n",
       "      <td>24</td>\n",
       "    </tr>\n",
       "    <tr>\n",
       "      <th>10</th>\n",
       "      <td>A#</td>\n",
       "      <td>18</td>\n",
       "    </tr>\n",
       "    <tr>\n",
       "      <th>11</th>\n",
       "      <td>C#</td>\n",
       "      <td>18</td>\n",
       "    </tr>\n",
       "  </tbody>\n",
       "</table>\n",
       "</div>"
      ],
      "text/plain": [
       "   Key  count\n",
       "0    A     59\n",
       "1    G     54\n",
       "2    C     38\n",
       "3    D     38\n",
       "4    E     36\n",
       "5   F#     31\n",
       "6    F     30\n",
       "7   D#     29\n",
       "8   G#     25\n",
       "9    B     24\n",
       "10  A#     18\n",
       "11  C#     18"
      ]
     },
     "execution_count": 37,
     "metadata": {},
     "output_type": "execute_result"
    }
   ],
   "source": [
    "# key distribution in every songs\n",
    "key_counts = df_result['Key'].value_counts().reset_index()\n",
    "key_counts"
   ]
  },
  {
   "cell_type": "code",
   "execution_count": 38,
   "metadata": {},
   "outputs": [
    {
     "data": {
      "image/png": "[encoded data removed]",
      "text/plain": [
       "<Figure size 1000x600 with 1 Axes>"
      ]
     },
     "metadata": {},
     "output_type": "display_data"
    }
   ],
   "source": [
    "# visualize number of songs in each key\n",
    "plt.figure(figsize=(10, 6))\n",
    "sns.barplot(x='Key', y='count', data=key_counts, palette='viridis')\n",
    "plt.title('Number of Songs in Each Key')\n",
    "plt.xlabel('Key')\n",
    "plt.ylabel('Count')\n",
    "plt.show()"
   ]
  },
  {
   "cell_type": "markdown",
   "metadata": {},
   "source": [
    "**Insight**\n",
    "- The data shows that the keys of A and G are the most popular across these genres, with 59 and 54 counts, respectively.\n",
    "- All the keys in the existing list are utilized within the analyzed music genre (rock, metal, disco, and pop). The diversity in key choices within each genre reflects the genre's distinct sonic identity and style."
   ]
  },
  {
   "cell_type": "code",
   "execution_count": 39,
   "metadata": {},
   "outputs": [
    {
     "data": {
      "text/html": [
       "<div>\n",
       "<style scoped>\n",
       "    .dataframe tbody tr th:only-of-type {\n",
       "        vertical-align: middle;\n",
       "    }\n",
       "\n",
       "    .dataframe tbody tr th {\n",
       "        vertical-align: top;\n",
       "    }\n",
       "\n",
       "    .dataframe thead th {\n",
       "        text-align: right;\n",
       "    }\n",
       "</style>\n",
       "<table border=\"1\" class=\"dataframe\">\n",
       "  <thead>\n",
       "    <tr style=\"text-align: right;\">\n",
       "      <th></th>\n",
       "      <th>Genre</th>\n",
       "      <th>count</th>\n",
       "    </tr>\n",
       "  </thead>\n",
       "  <tbody>\n",
       "    <tr>\n",
       "      <th>0</th>\n",
       "      <td>Pop</td>\n",
       "      <td>22</td>\n",
       "    </tr>\n",
       "    <tr>\n",
       "      <th>1</th>\n",
       "      <td>Disco</td>\n",
       "      <td>12</td>\n",
       "    </tr>\n",
       "    <tr>\n",
       "      <th>2</th>\n",
       "      <td>Rock</td>\n",
       "      <td>12</td>\n",
       "    </tr>\n",
       "    <tr>\n",
       "      <th>3</th>\n",
       "      <td>Metal</td>\n",
       "      <td>8</td>\n",
       "    </tr>\n",
       "  </tbody>\n",
       "</table>\n",
       "</div>"
      ],
      "text/plain": [
       "   Genre  count\n",
       "0    Pop     22\n",
       "1  Disco     12\n",
       "2   Rock     12\n",
       "3  Metal      8"
      ]
     },
     "execution_count": 39,
     "metadata": {},
     "output_type": "execute_result"
    }
   ],
   "source": [
    "# count the number of songs in the G key by genre\n",
    "df_keyg = df_result[df_result['Key'] == 'G']['Genre'].value_counts().reset_index()\n",
    "df_keyg"
   ]
  },
  {
   "cell_type": "code",
   "execution_count": 40,
   "metadata": {},
   "outputs": [
    {
     "data": {
      "text/html": [
       "<div>\n",
       "<style scoped>\n",
       "    .dataframe tbody tr th:only-of-type {\n",
       "        vertical-align: middle;\n",
       "    }\n",
       "\n",
       "    .dataframe tbody tr th {\n",
       "        vertical-align: top;\n",
       "    }\n",
       "\n",
       "    .dataframe thead th {\n",
       "        text-align: right;\n",
       "    }\n",
       "</style>\n",
       "<table border=\"1\" class=\"dataframe\">\n",
       "  <thead>\n",
       "    <tr style=\"text-align: right;\">\n",
       "      <th></th>\n",
       "      <th>Genre</th>\n",
       "      <th>count</th>\n",
       "    </tr>\n",
       "  </thead>\n",
       "  <tbody>\n",
       "    <tr>\n",
       "      <th>0</th>\n",
       "      <td>Metal</td>\n",
       "      <td>22</td>\n",
       "    </tr>\n",
       "    <tr>\n",
       "      <th>1</th>\n",
       "      <td>Rock</td>\n",
       "      <td>19</td>\n",
       "    </tr>\n",
       "    <tr>\n",
       "      <th>2</th>\n",
       "      <td>Disco</td>\n",
       "      <td>9</td>\n",
       "    </tr>\n",
       "    <tr>\n",
       "      <th>3</th>\n",
       "      <td>Pop</td>\n",
       "      <td>9</td>\n",
       "    </tr>\n",
       "  </tbody>\n",
       "</table>\n",
       "</div>"
      ],
      "text/plain": [
       "   Genre  count\n",
       "0  Metal     22\n",
       "1   Rock     19\n",
       "2  Disco      9\n",
       "3    Pop      9"
      ]
     },
     "execution_count": 40,
     "metadata": {},
     "output_type": "execute_result"
    }
   ],
   "source": [
    "# count the number of songs in the A key by genre\n",
    "df_keya = df_result[df_result['Key'] == 'A']['Genre'].value_counts().reset_index()\n",
    "df_keya"
   ]
  },
  {
   "cell_type": "code",
   "execution_count": 41,
   "metadata": {},
   "outputs": [
    {
     "data": {
      "text/html": [
       "<div>\n",
       "<style scoped>\n",
       "    .dataframe tbody tr th:only-of-type {\n",
       "        vertical-align: middle;\n",
       "    }\n",
       "\n",
       "    .dataframe tbody tr th {\n",
       "        vertical-align: top;\n",
       "    }\n",
       "\n",
       "    .dataframe thead th {\n",
       "        text-align: right;\n",
       "    }\n",
       "</style>\n",
       "<table border=\"1\" class=\"dataframe\">\n",
       "  <thead>\n",
       "    <tr style=\"text-align: right;\">\n",
       "      <th></th>\n",
       "      <th>Genre</th>\n",
       "      <th>count</th>\n",
       "    </tr>\n",
       "  </thead>\n",
       "  <tbody>\n",
       "    <tr>\n",
       "      <th>0</th>\n",
       "      <td>Disco</td>\n",
       "      <td>15</td>\n",
       "    </tr>\n",
       "    <tr>\n",
       "      <th>1</th>\n",
       "      <td>Rock</td>\n",
       "      <td>13</td>\n",
       "    </tr>\n",
       "    <tr>\n",
       "      <th>2</th>\n",
       "      <td>Pop</td>\n",
       "      <td>7</td>\n",
       "    </tr>\n",
       "    <tr>\n",
       "      <th>3</th>\n",
       "      <td>Metal</td>\n",
       "      <td>3</td>\n",
       "    </tr>\n",
       "  </tbody>\n",
       "</table>\n",
       "</div>"
      ],
      "text/plain": [
       "   Genre  count\n",
       "0  Disco     15\n",
       "1   Rock     13\n",
       "2    Pop      7\n",
       "3  Metal      3"
      ]
     },
     "execution_count": 41,
     "metadata": {},
     "output_type": "execute_result"
    }
   ],
   "source": [
    "# count the number of songs in the C key by genre\n",
    "df_keyc = df_result[df_result['Key'] == 'C']['Genre'].value_counts().reset_index()\n",
    "df_keyc"
   ]
  },
  {
   "cell_type": "code",
   "execution_count": 42,
   "metadata": {},
   "outputs": [
    {
     "data": {
      "text/html": [
       "<div>\n",
       "<style scoped>\n",
       "    .dataframe tbody tr th:only-of-type {\n",
       "        vertical-align: middle;\n",
       "    }\n",
       "\n",
       "    .dataframe tbody tr th {\n",
       "        vertical-align: top;\n",
       "    }\n",
       "\n",
       "    .dataframe thead th {\n",
       "        text-align: right;\n",
       "    }\n",
       "</style>\n",
       "<table border=\"1\" class=\"dataframe\">\n",
       "  <thead>\n",
       "    <tr style=\"text-align: right;\">\n",
       "      <th></th>\n",
       "      <th>Genre</th>\n",
       "      <th>count</th>\n",
       "    </tr>\n",
       "  </thead>\n",
       "  <tbody>\n",
       "    <tr>\n",
       "      <th>0</th>\n",
       "      <td>Disco</td>\n",
       "      <td>11</td>\n",
       "    </tr>\n",
       "    <tr>\n",
       "      <th>1</th>\n",
       "      <td>Pop</td>\n",
       "      <td>10</td>\n",
       "    </tr>\n",
       "    <tr>\n",
       "      <th>2</th>\n",
       "      <td>Rock</td>\n",
       "      <td>8</td>\n",
       "    </tr>\n",
       "    <tr>\n",
       "      <th>3</th>\n",
       "      <td>Metal</td>\n",
       "      <td>1</td>\n",
       "    </tr>\n",
       "  </tbody>\n",
       "</table>\n",
       "</div>"
      ],
      "text/plain": [
       "   Genre  count\n",
       "0  Disco     11\n",
       "1    Pop     10\n",
       "2   Rock      8\n",
       "3  Metal      1"
      ]
     },
     "execution_count": 42,
     "metadata": {},
     "output_type": "execute_result"
    }
   ],
   "source": [
    "# count the number of songs in the F key by genre\n",
    "df_keyf = df_result[df_result['Key'] == 'F']['Genre'].value_counts().reset_index()\n",
    "df_keyf"
   ]
  },
  {
   "cell_type": "code",
   "execution_count": 43,
   "metadata": {},
   "outputs": [
    {
     "data": {
      "text/html": [
       "<div>\n",
       "<style scoped>\n",
       "    .dataframe tbody tr th:only-of-type {\n",
       "        vertical-align: middle;\n",
       "    }\n",
       "\n",
       "    .dataframe tbody tr th {\n",
       "        vertical-align: top;\n",
       "    }\n",
       "\n",
       "    .dataframe thead th {\n",
       "        text-align: right;\n",
       "    }\n",
       "</style>\n",
       "<table border=\"1\" class=\"dataframe\">\n",
       "  <thead>\n",
       "    <tr style=\"text-align: right;\">\n",
       "      <th></th>\n",
       "      <th>Genre</th>\n",
       "      <th>count</th>\n",
       "    </tr>\n",
       "  </thead>\n",
       "  <tbody>\n",
       "    <tr>\n",
       "      <th>0</th>\n",
       "      <td>Disco</td>\n",
       "      <td>14</td>\n",
       "    </tr>\n",
       "    <tr>\n",
       "      <th>1</th>\n",
       "      <td>Metal</td>\n",
       "      <td>9</td>\n",
       "    </tr>\n",
       "    <tr>\n",
       "      <th>2</th>\n",
       "      <td>Rock</td>\n",
       "      <td>8</td>\n",
       "    </tr>\n",
       "    <tr>\n",
       "      <th>3</th>\n",
       "      <td>Pop</td>\n",
       "      <td>5</td>\n",
       "    </tr>\n",
       "  </tbody>\n",
       "</table>\n",
       "</div>"
      ],
      "text/plain": [
       "   Genre  count\n",
       "0  Disco     14\n",
       "1  Metal      9\n",
       "2   Rock      8\n",
       "3    Pop      5"
      ]
     },
     "execution_count": 43,
     "metadata": {},
     "output_type": "execute_result"
    }
   ],
   "source": [
    "# count the number of songs in the E key by genre\n",
    "df_keye = df_result[df_result['Key'] == 'E']['Genre'].value_counts().reset_index()\n",
    "df_keye"
   ]
  },
  {
   "cell_type": "code",
   "execution_count": 44,
   "metadata": {},
   "outputs": [
    {
     "data": {
      "image/png": "[encoded data removed]",
      "text/plain": [
       "<Figure size 1600x1200 with 5 Axes>"
      ]
     },
     "metadata": {},
     "output_type": "display_data"
    }
   ],
   "source": [
    "plt.figure(figsize=(16, 12))\n",
    "plt.subplot(3, 2, 1)\n",
    "bar = sns.barplot(x='Genre', y='count', data=df_keyg, palette='viridis')\n",
    "plt.title('Number of Songs in G Key by Genre')\n",
    "plt.xlabel('Genre')\n",
    "plt.ylabel('Song Count')\n",
    "\n",
    "plt.subplot(3, 2, 2)\n",
    "bar = sns.barplot(x='Genre', y='count', data=df_keya, palette='viridis')\n",
    "plt.title('Number of Songs in A Key by Genre')\n",
    "plt.xlabel('Genre')\n",
    "plt.ylabel('Song Count')\n",
    "\n",
    "plt.subplot(3, 2, 3)\n",
    "bar = sns.barplot(x='Genre', y='count', data=df_keyc, palette='viridis')\n",
    "plt.title('Number of Songs in C Key by Genre')\n",
    "plt.xlabel('Genre')\n",
    "plt.ylabel('Song Count')\n",
    "\n",
    "plt.subplot(3, 2, 4)\n",
    "bar = sns.barplot(x='Genre', y='count', data=df_keyf, palette='viridis')\n",
    "plt.title('Number of Songs in F Key by Genre')\n",
    "plt.xlabel('Genre')\n",
    "plt.ylabel('Song Count')\n",
    "\n",
    "plt.subplot(3, 2, 5)\n",
    "bar = sns.barplot(x='Genre', y='count', data=df_keye, palette='viridis')\n",
    "plt.title('Number of Songs in E Key by Genre')\n",
    "plt.xlabel('Genre')\n",
    "plt.ylabel('Song Count')\n",
    "\n",
    "plt.tight_layout()\n",
    "plt.show()"
   ]
  },
  {
   "cell_type": "markdown",
   "metadata": {},
   "source": [
    "**Insight**\n",
    "- The key 'G' is most popularly used in the \"Pop\" genre, with 22 songs. Pop music often aims for broad appeal, and the choice of 'G' might contribute to creating catchy and relatable tunes.\n",
    "- The key 'A' is prominently featured in both the \"Metal\" and \"Rock\" genres, with 22 and 19 songs, respectively. The use of 'A' aligns with the energetic and often aggressive qualities of these genres.\n",
    "- The key 'C' is favored in the \"Disco\" genre, with 15 songs. 'C' is also used in the \"Rock\" and \"Pop\" genres, but it's less prevalent, showing a level of versatility and adaptability across genres.\n",
    "- The key 'F' is commonly used in the \"Disco\" genre, with 11 songs. The key 'F' is also a preferred choice in the \"Pop\" genre, with 10 songs. This suggests that 'F' may have qualities that contribute to creating the upbeat and danceable vibes\n",
    "- The key 'E' is popular in the \"Disco\" genre, with 14 songs, and is also used in the \"Metal\" genre, with 9 songs. This indicates that 'E' can adapt to different musical styles. In \"Disco,\" it contributes to the danceable nature of the genre, while in \"Metal,\" it may be employed for creating intense and heavy compositions."
   ]
  }
 ],
 "metadata": {
  "kernelspec": {
   "display_name": "Python 3",
   "language": "python",
   "name": "python3"
  },
  "language_info": {
   "codemirror_mode": {
    "name": "ipython",
    "version": 3
   },
   "file_extension": ".py",
   "mimetype": "text/x-python",
   "name": "python",
   "nbconvert_exporter": "python",
   "pygments_lexer": "ipython3",
   "version": "3.11.4"
  }
 },
 "nbformat": 4,
 "nbformat_minor": 2
}
